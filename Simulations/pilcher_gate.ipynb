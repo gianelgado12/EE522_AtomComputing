{
 "cells": [
  {
   "cell_type": "markdown",
   "metadata": {},
   "source": [
    "# Simulating the Pilcher Gate"
   ]
  },
  {
   "cell_type": "code",
   "execution_count": 1,
   "metadata": {},
   "outputs": [],
   "source": [
    "# Import packages.\n",
    "import numpy as np\n",
    "import qctrlvisualizer\n",
    "import boulderopal as bo"
   ]
  },
  {
   "cell_type": "code",
   "execution_count": 13,
   "metadata": {},
   "outputs": [],
   "source": [
    "# Set parameters.\n",
    "Omega_0 = 3.5 * 2 * np.pi * 1e6  # rad/s\n",
    "Delta_0 = Omega_0 * 0.377  # rad/s\n",
    "cutoff_frequency = Omega_0\n",
    "segment_count = 256\n",
    "sample_times = np.linspace(0, duration, segment_count)\n",
    "duration = 1\n",
    "\n",
    "# Define system operators.\n",
    "basis_labels = [\"00\", \"01\", \"10\", \"11\", \"0r\", \"r0\", \"W\", \"-W\", \"rr\"]\n",
    "drive_operator = np.zeros((9, 9))\n",
    "drive_operator[([1, 2], [4, 5])] = 1\n",
    "drive_operator[3, 6] = np.sqrt(2)\n",
    "\n",
    "detuning_operator = np.diag([0, 1, 1, 1, -1, -1, -1, 0, 0])\n",
    "\n",
    "# Components for the CZ operator.\n",
    "h_00 = np.zeros((9, 9))\n",
    "h_00[0, 0] = 1\n",
    "h_01 = np.zeros((9, 9))\n",
    "h_01[1, 1] = 1\n",
    "h_01[2, 2] = 1\n",
    "h_11 = np.zeros((9, 9))\n",
    "h_11[3, 3] = 1"
   ]
  },
  {
   "cell_type": "code",
   "execution_count": 78,
   "metadata": {},
   "outputs": [],
   "source": [
    "def optimal_CZ(cost_node=\"infidelity\", optimization_count=10, **robustness):\n",
    "    graph = bo.Graph()\n",
    "    \n",
    "    duration_op = graph.optimizable_scalar(10e-7, 10e-5, is_lower_unbounded=True, is_upper_unbounded=True)\n",
    "    duration_op.name = \"duration\"\n",
    "    \n",
    "    phase_op = graph.optimization_variable(2, 0, 2 * np.pi, is_lower_unbounded=True, is_upper_unbounded=True, name = \"laser_phases\")\n",
    "    \n",
    "    Omega = graph.complex_pwc_signal(moduli=[Omega_0,Omega_0], phases=phase_op, duration = duration, name='amplitude')\n",
    "    Delta = graph.complex_pwc_signal(moduli=[Delta_0,Delta_0], phases=phase_op, duration = duration, name='detuning')\n",
    "\n",
    "    # Create Hamiltonian.\n",
    "    drive_term = graph.hermitian_part(Omega * drive_operator)\n",
    "    delta_term = graph.hermitian_part(Delta * detuning_operator)\n",
    "    hamiltonian = (drive_term + delta_term) * duration_op\n",
    "    \n",
    "    theta_s = graph.optimizable_scalar(\n",
    "        lower_bound=0.0,\n",
    "        upper_bound=2 * np.pi,\n",
    "        is_lower_unbounded=True,\n",
    "        is_upper_unbounded=True,\n",
    "        name=\"theta_s\",\n",
    "    )\n",
    "    \n",
    "    cz_op = (\n",
    "        h_00\n",
    "        + graph.exp(1j * theta_s) * h_01\n",
    "        + graph.exp(1j * (2 * theta_s + np.pi)) * h_11\n",
    "    )\n",
    "    target = graph.target(operator=cz_op)\n",
    "    \n",
    "    noise_list = []\n",
    "    if robustness[\"dephasing\"]:\n",
    "        noise_list.append(detuning_operator / duration)\n",
    "    if robustness[\"amplitude\"]:\n",
    "        noise_list.append(drive_term)\n",
    "    penalty = robustness[\"decay\"]\n",
    "\n",
    "    \n",
    "    infidelity = graph.infidelity_pwc(\n",
    "        hamiltonian=hamiltonian,\n",
    "        target=target,\n",
    "        noise_operators=noise_list,\n",
    "        name=\"infidelity\",\n",
    "    )\n",
    "\n",
    "    unitary = graph.time_evolution_operators_pwc(\n",
    "        hamiltonian=hamiltonian, sample_times=sample_times, name=\"unitary\"\n",
    "    ) \n",
    "\n",
    "    decay_cost = graph.sum(\n",
    "        graph.abs(unitary[:, 4, 1]) ** 2\n",
    "        + graph.abs(unitary[:, 5, 2]) ** 2\n",
    "        + graph.abs(unitary[:, 6, 3]) ** 2\n",
    "        + graph.abs(unitary[:, 7, 3]) ** 2\n",
    "        + 2 * graph.abs(unitary[:, 8, 3]) ** 2\n",
    "    ) * (0.25 * sample_times[1] / sample_times[-1])\n",
    "\n",
    "    decay_cost.name = \"decay cost\"\n",
    "    \n",
    "    cost = graph.log(infidelity + penalty * decay_cost, name=\"cost\")\n",
    "\n",
    "    result = bo.run_optimization(\n",
    "        graph=graph,\n",
    "        output_node_names=[\n",
    "            \"theta_s\",\n",
    "            \"amplitude\",\n",
    "            \"detuning\",\n",
    "            \"unitary\",\n",
    "            \"infidelity\",\n",
    "            \"decay cost\",\n",
    "            \"duration\",\n",
    "            \"laser_phases\"\n",
    "        ],\n",
    "        cost_node_name=cost_node,\n",
    "        optimization_count=optimization_count,\n",
    "    )\n",
    "\n",
    "    return result\n",
    "\n"
   ]
  },
  {
   "cell_type": "code",
   "execution_count": 79,
   "metadata": {},
   "outputs": [
    {
     "name": "stdout",
     "output_type": "stream",
     "text": [
      "Your task (action_id=\"1948837\") is queued.\n",
      "Your task (action_id=\"1948837\") has started.\n",
      "Your task (action_id=\"1948837\") has completed.\n"
     ]
    }
   ],
   "source": [
    "result = optimal_CZ(\n",
    "    cost_node=\"infidelity\",\n",
    "    dephasing=False,\n",
    "    amplitude=False,\n",
    "    decay=0.0,\n",
    ")"
   ]
  },
  {
   "cell_type": "code",
   "execution_count": 66,
   "metadata": {},
   "outputs": [
    {
     "name": "stdout",
     "output_type": "stream",
     "text": [
      "Gate infidelity is 1.895e-04\n",
      "Single-qubit phase is 3.145\n",
      "Pulse Duration:  0.000\n",
      "Pulse Phases:  [ 0.76804198 -1.056578  ]\n"
     ]
    }
   ],
   "source": [
    "print(\"Gate infidelity is\", f\"{result['output']['infidelity']['value']:.3e}\")\n",
    "print(\"Single-qubit phase is\", f\"{result['output']['theta_s']['value']:.3f}\")\n",
    "print(\"Pulse Duration: \", f\"{result['output']['duration']['value']:.3f}\")\n",
    "print(\"Pulse Phases: \", f\"{(result['output']['laser_phases']['value'])/(np.pi)}\")"
   ]
  },
  {
   "cell_type": "code",
   "execution_count": null,
   "metadata": {},
   "outputs": [],
   "source": []
  }
 ],
 "metadata": {
  "kernelspec": {
   "display_name": "qctrl",
   "language": "python",
   "name": "python3"
  },
  "language_info": {
   "codemirror_mode": {
    "name": "ipython",
    "version": 3
   },
   "file_extension": ".py",
   "mimetype": "text/x-python",
   "name": "python",
   "nbconvert_exporter": "python",
   "pygments_lexer": "ipython3",
   "version": "3.11.8"
  },
  "orig_nbformat": 4
 },
 "nbformat": 4,
 "nbformat_minor": 2
}
