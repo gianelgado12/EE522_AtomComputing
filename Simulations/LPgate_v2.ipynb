{
 "cells": [
  {
   "cell_type": "code",
   "execution_count": 1,
   "metadata": {},
   "outputs": [
    {
     "name": "stdout",
     "output_type": "stream",
     "text": [
      "Boulder Opal client update available.\n",
      "Latest version is 1.4.0, you have 1.3.2.\n",
      "Visit https://docs.q-ctrl.com/boulder-opal/changelog for the latest product updates.\n"
     ]
    }
   ],
   "source": [
    "import numpy as np\n",
    "import matplotlib.pyplot as plt\n",
    "import qctrlvisualizer as qv\n",
    "import boulderopal as bo\n",
    "\n",
    "#bo.cloud.set_verbosity(\"QUIET\")\n",
    "plt.style.use(qv.get_qctrl_style())\n",
    "\n",
    "controls_for_plots = lambda opt: {\n",
    "    \"$\\\\Omega$\": opt[\"output\"][\"amplitude\"],\n",
    "    \"$\\\\Delta$\": opt[\"output\"][\"detuning\"],\n",
    "}\n",
    "\n",
    "\n",
    "# Read and write helper functions, type independent.\n",
    "def save_variable(file_name, var):\n",
    "    \"\"\"\n",
    "    Save a single variable to a file using jsonpickle.\n",
    "    \"\"\"\n",
    "    with open(file_name, \"w+\") as file:\n",
    "        file.write(jsonpickle.encode(var))\n",
    "\n",
    "\n",
    "def load_variable(file_name):\n",
    "    \"\"\"\n",
    "    Load a variable from a file encoded with jsonpickle.\n",
    "    \"\"\"\n",
    "    with open(file_name, \"r+\") as file:\n",
    "        return jsonpickle.decode(file.read())"
   ]
  },
  {
   "cell_type": "code",
   "execution_count": 111,
   "metadata": {},
   "outputs": [],
   "source": [
    "# Set parameters.\n",
    "Omega_0 = 3.5 * 2 * np.pi * 1e9  # rad/s\n",
    "Delta_0 = .377 * Omega_0\n",
    "duration = .4 * 1e-6  # s\n",
    "cutoff_frequency = Omega_0\n",
    "segment_count = 256\n",
    "sample_times = np.linspace(0, duration, segment_count)\n",
    "\n",
    "# Define system operators.\n",
    "basis_labels = [\"00\", \"01\", \"10\", \"11\", \"0r\", \"r0\", \"1r\", \"r1\", \"rr\"]\n",
    "\n",
    "drive_operator = np.zeros((9, 9))\n",
    "drive_operator[([1, 2], [4, 5])] = 1/2\n",
    "drive_operator[([3, 3], [6, 7])] = 1/np.sqrt(2)\n",
    "\n",
    "detuning_operator = np.diag([0, 0, 0, 0, -1, -1, -1, -1, 0])\n",
    "\n",
    "blockade_operator = np.zeros((9, 9))\n",
    "blockade_operator[8, 8] = 1\n",
    "\n",
    "# Components for the CZ operator.\n",
    "h_00 = np.zeros((9, 9))\n",
    "h_00[0, 0] = 1\n",
    "h_01 = np.zeros((9, 9))\n",
    "h_01[1, 1] = 1\n",
    "h_01[2, 2] = 1\n",
    "h_11 = np.zeros((9, 9))\n",
    "h_11[3, 3] = 1\n"
   ]
  },
  {
   "cell_type": "code",
   "execution_count": 124,
   "metadata": {},
   "outputs": [],
   "source": [
    "# Graph for blockade strengths B in rad/s.\n",
    "def optimize_LP_gate(\n",
    "    blockade_strength, cost_node, optimization_count=10, **robustness\n",
    "):\n",
    "    graph = bo.Graph()\n",
    "    \n",
    "    duration_op = graph.optimizable_scalar(10e-7, 10e-5, is_lower_unbounded=True, is_upper_unbounded=True)\n",
    "    duration_op.name = \"duration\"\n",
    "    \n",
    "    #phase_op = graph.optimization_variable(2, 0, 2 * np.pi, is_lower_unbounded=True, is_upper_unbounded=True, name = \"laser_phases\")\n",
    "    \n",
    "    #Omega = graph.complex_pwc_signal(moduli=[Omega_0,Omega_0], phases=phase_op, duration = .4 * 1e-6 , name='amplitude')\n",
    "    Omega = graph.complex_optimizable_pwc_signal(segment_count=2,initial_values=[np.array([Omega_0,Omega_0])], duration = .4 * 1e-6 , maximum=2*Omega_0, name='amplitude')\n",
    "    \n",
    "    #complex_optimizable_pwc_signal\n",
    "    Delta = graph.pwc_signal(values=np.array([Delta_0,Delta_0]), duration = .4 * 1e-6, name='detuning')\n",
    "    \n",
    "\n",
    "    \n",
    "    # Create Hamiltonian.\n",
    "    drive_term = graph.hermitian_part(Omega * drive_operator)\n",
    "    delta_term = graph.hermitian_part(Delta * detuning_operator)\n",
    "    blockade_term = blockade_strength * blockade_operator\n",
    "    hamiltonian = (drive_term + delta_term + blockade_term) * duration_op\n",
    "\n",
    "   # hamiltonian = (drive_term + delta_term) * duration_op\n",
    "    \n",
    "    theta_s = graph.optimizable_scalar(\n",
    "        lower_bound=0.0,\n",
    "        upper_bound=2 * np.pi,\n",
    "        is_lower_unbounded=True,\n",
    "        is_upper_unbounded=True,\n",
    "        name=\"theta_s\",\n",
    "    )\n",
    "    \n",
    "    cz_op = (\n",
    "        h_00\n",
    "        + graph.exp(1j * theta_s) * h_01\n",
    "        + graph.exp(1j * (2 * theta_s + np.pi)) * h_11\n",
    "    )\n",
    "    target = graph.target(operator=cz_op)\n",
    "    \n",
    "    noise_list = []\n",
    "    if robustness[\"dephasing\"]:\n",
    "        noise_list.append(detuning_operator / duration)\n",
    "    if robustness[\"amplitude\"]:\n",
    "        noise_list.append(drive_term)\n",
    "    penalty = robustness[\"decay\"]\n",
    "\n",
    "    \n",
    "    infidelity = graph.infidelity_pwc(\n",
    "        hamiltonian=hamiltonian,\n",
    "        target=target,\n",
    "        noise_operators=noise_list,\n",
    "        name=\"infidelity\",\n",
    "    )\n",
    "\n",
    "    unitary = graph.time_evolution_operators_pwc(\n",
    "        hamiltonian=hamiltonian, sample_times=sample_times, name=\"unitary\"\n",
    "    ) \n",
    "\n",
    "    decay_cost = graph.sum(\n",
    "        graph.abs(unitary[:, 4, 1]) ** 2\n",
    "        + graph.abs(unitary[:, 5, 2]) ** 2\n",
    "        + (1/np.sqrt(2))*graph.abs(unitary[:, 6, 3]) ** 2\n",
    "        + (1/np.sqrt(2))*graph.abs(unitary[:, 7, 3]) ** 2\n",
    "    ) * (0.25 * sample_times[1] / sample_times[-1])\n",
    "\n",
    "    decay_cost.name = \"decay cost\"\n",
    "\n",
    "    cost = graph.log(infidelity + penalty * decay_cost + .1*duration_op, name=\"cost\")\n",
    "\n",
    "    result = bo.run_optimization(\n",
    "        graph=graph,\n",
    "        output_node_names=[\n",
    "            \"theta_s\",\n",
    "            \"amplitude\",\n",
    "            \"detuning\",\n",
    "            \"unitary\",\n",
    "            \"infidelity\",\n",
    "            \"decay cost\",\n",
    "            \"duration\"\n",
    "            #\"laser_phases\"\n",
    "        ],\n",
    "        cost_node_name=cost_node,\n",
    "        optimization_count=optimization_count,\n",
    "    )\n",
    "\n",
    "    return result"
   ]
  },
  {
   "cell_type": "code",
   "execution_count": 125,
   "metadata": {},
   "outputs": [
    {
     "name": "stdout",
     "output_type": "stream",
     "text": [
      "Your task (action_id=\"1979442\") is queued.\n",
      "Your task (action_id=\"1979442\") has started.\n",
      "Your task (action_id=\"1979442\") has completed.\n"
     ]
    }
   ],
   "source": [
    "result = optimize_LP_gate(\n",
    "    blockade_strength=1e12,\n",
    "    cost_node=\"infidelity\",\n",
    "    dephasing=False,\n",
    "    amplitude=False,\n",
    "    decay=0.0,\n",
    ")"
   ]
  },
  {
   "cell_type": "code",
   "execution_count": 126,
   "metadata": {},
   "outputs": [
    {
     "name": "stdout",
     "output_type": "stream",
     "text": [
      "Gate infidelity is 1.729e-03\n",
      "Single-qubit phase is 10.110\n",
      "Pulse Duration:  0.002310\n"
     ]
    },
    {
     "data": {
      "image/png": "[encoded data removed]",
      "text/plain": [
       "<Figure size 720x540 with 3 Axes>"
      ]
     },
     "metadata": {},
     "output_type": "display_data"
    }
   ],
   "source": [
    "print(\"Gate infidelity is\", f\"{result['output']['infidelity']['value']:.3e}\")\n",
    "print(\"Single-qubit phase is\", f\"{result['output']['theta_s']['value']:.3f}\")\n",
    "print(\"Pulse Duration: \", f\"{result['output']['duration']['value']:f}\")\n",
    "#print(\"Pulse Phases: \", f\"{(result['output']['laser_phases']['value'])/(np.pi)}\")\n",
    "\n",
    "qv.plot_controls(controls_for_plots(result), smooth=True)"
   ]
  },
  {
   "cell_type": "code",
   "execution_count": 11,
   "metadata": {},
   "outputs": [],
   "source": [
    "# # Graph for blockade strengths B in rad/s.\n",
    "# def optimize_LP_gate_v1(\n",
    "#     blockade_strength, cost_node, optimization_count=10, **robustness\n",
    "# ):\n",
    "#     graph = bo.Graph()\n",
    "#     tau = 0.175 * duration\n",
    "#     t0 = duration / 4\n",
    "#     a = np.exp(-((t0 / tau) ** 4))\n",
    "\n",
    "#     times = np.linspace(0, duration / 2, segment_count)\n",
    "#     amplitude = (\n",
    "#         Omega_0\n",
    "#         * (np.exp(-(((times - t0) / tau) ** 4)) - np.exp(-((t0 / tau) ** 4)))\n",
    "#         / (1 - a)\n",
    "#     )\n",
    "#     detuning = Delta_0 * np.sin(2 * np.pi * (times - t0) / duration)\n",
    "\n",
    "#     Omega = graph.pwc_signal(values=amplitude, duration=duration / 2)\n",
    "#     Delta = graph.pwc_signal(values=detuning, duration=duration / 2)\n",
    "\n",
    "#     # 2 pulses to implement the gate.\n",
    "#     Omega = graph.time_concatenate_pwc([Omega, Omega], name=\"amplitude\")\n",
    "#     Delta = graph.time_concatenate_pwc([Delta, Delta], name=\"detuning\")\n",
    "\n",
    "\n",
    "#     # Create Hamiltonian.\n",
    "#     drive_term = graph.hermitian_part(Omega * drive_operator)\n",
    "#     delta_term = Delta * detuning_operator\n",
    "#     blockade_term = blockade_strength * blockade_operator\n",
    "#     hamiltonian = drive_term + delta_term + blockade_term\n",
    "\n",
    "#     # Single-qubit rotation is a free parameter, can be optimized for best fidelity.\n",
    "#     theta_s = graph.optimizable_scalar(\n",
    "#         lower_bound=0.0,\n",
    "#         upper_bound=2 * np.pi,\n",
    "#         is_lower_unbounded=True,\n",
    "#         is_upper_unbounded=True,\n",
    "#         name=\"theta_s\",\n",
    "#     )\n",
    "\n",
    "#     # Define target operation.\n",
    "#     cz_op = (\n",
    "#         h_00\n",
    "#         + graph.exp(1j * theta_s) * h_01\n",
    "#         + graph.exp(1j * (2 * theta_s + np.pi)) * h_11\n",
    "#     )\n",
    "#     target = graph.target(operator=cz_op)\n",
    "\n",
    "#     # Define noise list to include robustness.\n",
    "#     noise_list = []\n",
    "#     if robustness[\"dephasing\"]:\n",
    "#         noise_list.append(detuning_operator / duration)\n",
    "#     if robustness[\"amplitude\"]:\n",
    "#         noise_list.append(drive_term)\n",
    "#     penalty = robustness[\"decay\"]\n",
    "\n",
    "#     infidelity = graph.infidelity_pwc(\n",
    "#         hamiltonian=hamiltonian,\n",
    "#         target=target,\n",
    "#         noise_operators=noise_list,\n",
    "#         name=\"infidelity\",\n",
    "#     )\n",
    "\n",
    "#     unitary = graph.time_evolution_operators_pwc(\n",
    "#         hamiltonian=hamiltonian, sample_times=sample_times, name=\"unitary\"\n",
    "#     )\n",
    "\n",
    "#     # Node to store blockade value used (in Hz).\n",
    "#     blockade = graph.abs(blockade_strength / 2 / np.pi)\n",
    "#     blockade.name = \"blockade\"\n",
    "\n",
    "#     decay_cost = graph.sum(\n",
    "#         graph.abs(unitary[:, 4, 1]) ** 2\n",
    "#         + graph.abs(unitary[:, 5, 2]) ** 2\n",
    "#         + (1/np.sqrt(2))*graph.abs(unitary[:, 6, 3]) ** 2\n",
    "#         + (1/np.sqrt(2))*graph.abs(unitary[:, 7, 3]) ** 2\n",
    "#     ) * (0.25 * sample_times[1] / sample_times[-1])\n",
    "\n",
    "#     decay_cost.name = \"decay cost\"\n",
    "\n",
    "#     cost = graph.log(infidelity + penalty * decay_cost, name=\"cost\")\n",
    "\n",
    "#     result = bo.run_optimization(\n",
    "#         graph=graph,\n",
    "#         output_node_names=[\n",
    "#             \"theta_s\",\n",
    "#             \"amplitude\",\n",
    "#             \"detuning\",\n",
    "#             \"unitary\",\n",
    "#             \"infidelity\",\n",
    "#             \"blockade\",\n",
    "#             \"decay cost\",\n",
    "#         ],\n",
    "#         cost_node_name=cost_node,\n",
    "#         optimization_count=optimization_count,\n",
    "#     )\n",
    "\n",
    "#     return result"
   ]
  },
  {
   "cell_type": "code",
   "execution_count": 108,
   "metadata": {},
   "outputs": [
    {
     "data": {
      "text/plain": [
       "1.8132275260619157"
      ]
     },
     "execution_count": 108,
     "metadata": {},
     "output_type": "execute_result"
    }
   ],
   "source": [
    "czOP = np.eye(9)\n",
    "\n",
    "np.sum(np.abs(result['output']['unitary']['value'][-1]-np.eye(9)))"
   ]
  },
  {
   "cell_type": "code",
   "execution_count": 103,
   "metadata": {},
   "outputs": [
    {
     "data": {
      "text/plain": [
       "array([ 1.00000000e+00+0.00000000e+00j, -1.00000000e+00+3.98564902e-07j,\n",
       "       -1.00000000e+00+3.98564901e-07j, -1.00000000e+00+3.98564900e-07j,\n",
       "       -1.00000000e+00+1.51527444e-06j, -1.00000000e+00+1.51527444e-06j,\n",
       "        2.11097958e-14-1.99282452e-07j,  2.01082098e-14-1.99282453e-07j,\n",
       "        4.49599512e-01-8.93230250e-01j])"
      ]
     },
     "execution_count": 103,
     "metadata": {},
     "output_type": "execute_result"
    }
   ],
   "source": [
    "np.diagonal(result['output']['unitary']['value'][-1])"
   ]
  },
  {
   "cell_type": "code",
   "execution_count": 132,
   "metadata": {},
   "outputs": [
    {
     "data": {
      "text/plain": [
       "[<matplotlib.lines.Line2D at 0x169a04550>]"
      ]
     },
     "execution_count": 132,
     "metadata": {},
     "output_type": "execute_result"
    },
    {
     "data": {
      "image/png": "[encoded data removed]",
      "text/plain": [
       "<Figure size 720x360 with 1 Axes>"
      ]
     },
     "metadata": {},
     "output_type": "display_data"
    }
   ],
   "source": [
    "u = result['output']['unitary']['value']\n",
    "psi =  np.array([0,0,0,1,0,0,0,0,0])\n",
    "out = np.abs(np.conjugate(np.transpose(psi)) @ u @ psi)**2\n",
    "plt.plot(np.real(out))"
   ]
  },
  {
   "cell_type": "code",
   "execution_count": null,
   "metadata": {},
   "outputs": [],
   "source": [
    "graph.expectation_value(np.array([1j, 1j]), np.eye(2), name=\"expectation\")\n",
    "\n",
    "result = bo.execute_graph(graph=graph, output_node_names=\"expectation\")\n",
    ">>> result[\"output\"][\"expectation\"][\"value\"]\n",
    "\n",
    "\n",
    ">>> graph.expectation_value(np.ones([3,1,4]), np.ones([2,4,4]), name=\"expectation)\n",
    "\n",
    ">>> result = bo.execute_graph(graph=graph, output_node_names=\"expectation\")\n",
    ">>> result[\"output\"][\"expectation\"][\"value\"]\n",
    "array([[16, 16], [16, 16], [16, 16]])"
   ]
  }
 ],
 "metadata": {
  "kernelspec": {
   "display_name": "Python 3 (ipykernel)",
   "language": "python",
   "name": "python3"
  },
  "language_info": {
   "codemirror_mode": {
    "name": "ipython",
    "version": 3
   },
   "file_extension": ".py",
   "mimetype": "text/x-python",
   "name": "python",
   "nbconvert_exporter": "python",
   "pygments_lexer": "ipython3",
   "version": "3.10.10"
  }
 },
 "nbformat": 4,
 "nbformat_minor": 4
}
